{
 "cells": [
  {
   "cell_type": "code",
   "execution_count": 5,
   "id": "legislative-vitamin",
   "metadata": {},
   "outputs": [],
   "source": [
    "import time\n",
    "import datetime\n",
    "import numpy as np\n",
    "import pandas as pd\n",
    "import matplotlib.pyplot as plt\n",
    "%matplotlib inline\n",
    "from sklearn.model_selection import train_test_split\n",
    "from sklearn.metrics import log_loss\n",
    "from sklearn.ensemble import GradientBoostingClassifier as GB\n",
    "from sklearn.model_selection import KFold\n",
    "from sklearn.model_selection import cross_val_score\n",
    "from sklearn.metrics import roc_auc_score"
   ]
  },
  {
   "cell_type": "code",
   "execution_count": 6,
   "id": "informational-forth",
   "metadata": {},
   "outputs": [],
   "source": [
    "dota_train = pd.read_csv('features.csv', index_col='match_id')\n",
    "dota_test = pd.read_csv('features_test.csv', index_col='match_id')"
   ]
  },
  {
   "cell_type": "code",
   "execution_count": 28,
   "id": "welsh-origin",
   "metadata": {},
   "outputs": [
    {
     "data": {
      "text/html": [
       "<div>\n",
       "<style scoped>\n",
       "    .dataframe tbody tr th:only-of-type {\n",
       "        vertical-align: middle;\n",
       "    }\n",
       "\n",
       "    .dataframe tbody tr th {\n",
       "        vertical-align: top;\n",
       "    }\n",
       "\n",
       "    .dataframe thead th {\n",
       "        text-align: right;\n",
       "    }\n",
       "</style>\n",
       "<table border=\"1\" class=\"dataframe\">\n",
       "  <thead>\n",
       "    <tr style=\"text-align: right;\">\n",
       "      <th></th>\n",
       "      <th>start_time</th>\n",
       "      <th>lobby_type</th>\n",
       "      <th>r1_hero</th>\n",
       "      <th>r1_level</th>\n",
       "      <th>r1_xp</th>\n",
       "      <th>r1_gold</th>\n",
       "      <th>r1_lh</th>\n",
       "      <th>r1_kills</th>\n",
       "      <th>r1_deaths</th>\n",
       "      <th>r1_items</th>\n",
       "      <th>...</th>\n",
       "      <th>dire_boots_count</th>\n",
       "      <th>dire_ward_observer_count</th>\n",
       "      <th>dire_ward_sentry_count</th>\n",
       "      <th>dire_first_ward_time</th>\n",
       "      <th>duration</th>\n",
       "      <th>radiant_win</th>\n",
       "      <th>tower_status_radiant</th>\n",
       "      <th>tower_status_dire</th>\n",
       "      <th>barracks_status_radiant</th>\n",
       "      <th>barracks_status_dire</th>\n",
       "    </tr>\n",
       "    <tr>\n",
       "      <th>match_id</th>\n",
       "      <th></th>\n",
       "      <th></th>\n",
       "      <th></th>\n",
       "      <th></th>\n",
       "      <th></th>\n",
       "      <th></th>\n",
       "      <th></th>\n",
       "      <th></th>\n",
       "      <th></th>\n",
       "      <th></th>\n",
       "      <th></th>\n",
       "      <th></th>\n",
       "      <th></th>\n",
       "      <th></th>\n",
       "      <th></th>\n",
       "      <th></th>\n",
       "      <th></th>\n",
       "      <th></th>\n",
       "      <th></th>\n",
       "      <th></th>\n",
       "      <th></th>\n",
       "    </tr>\n",
       "  </thead>\n",
       "  <tbody>\n",
       "    <tr>\n",
       "      <th>0</th>\n",
       "      <td>1430198770</td>\n",
       "      <td>7</td>\n",
       "      <td>11</td>\n",
       "      <td>5</td>\n",
       "      <td>2098</td>\n",
       "      <td>1489</td>\n",
       "      <td>20</td>\n",
       "      <td>0</td>\n",
       "      <td>0</td>\n",
       "      <td>7</td>\n",
       "      <td>...</td>\n",
       "      <td>4</td>\n",
       "      <td>2</td>\n",
       "      <td>2</td>\n",
       "      <td>-52.0</td>\n",
       "      <td>2874</td>\n",
       "      <td>1</td>\n",
       "      <td>1796</td>\n",
       "      <td>0</td>\n",
       "      <td>51</td>\n",
       "      <td>0</td>\n",
       "    </tr>\n",
       "    <tr>\n",
       "      <th>1</th>\n",
       "      <td>1430220345</td>\n",
       "      <td>0</td>\n",
       "      <td>42</td>\n",
       "      <td>4</td>\n",
       "      <td>1188</td>\n",
       "      <td>1033</td>\n",
       "      <td>9</td>\n",
       "      <td>0</td>\n",
       "      <td>1</td>\n",
       "      <td>12</td>\n",
       "      <td>...</td>\n",
       "      <td>4</td>\n",
       "      <td>3</td>\n",
       "      <td>1</td>\n",
       "      <td>-5.0</td>\n",
       "      <td>2463</td>\n",
       "      <td>1</td>\n",
       "      <td>1974</td>\n",
       "      <td>0</td>\n",
       "      <td>63</td>\n",
       "      <td>1</td>\n",
       "    </tr>\n",
       "    <tr>\n",
       "      <th>2</th>\n",
       "      <td>1430227081</td>\n",
       "      <td>7</td>\n",
       "      <td>33</td>\n",
       "      <td>4</td>\n",
       "      <td>1319</td>\n",
       "      <td>1270</td>\n",
       "      <td>22</td>\n",
       "      <td>0</td>\n",
       "      <td>0</td>\n",
       "      <td>12</td>\n",
       "      <td>...</td>\n",
       "      <td>4</td>\n",
       "      <td>3</td>\n",
       "      <td>1</td>\n",
       "      <td>13.0</td>\n",
       "      <td>2130</td>\n",
       "      <td>0</td>\n",
       "      <td>0</td>\n",
       "      <td>1830</td>\n",
       "      <td>0</td>\n",
       "      <td>63</td>\n",
       "    </tr>\n",
       "    <tr>\n",
       "      <th>3</th>\n",
       "      <td>1430263531</td>\n",
       "      <td>1</td>\n",
       "      <td>29</td>\n",
       "      <td>4</td>\n",
       "      <td>1779</td>\n",
       "      <td>1056</td>\n",
       "      <td>14</td>\n",
       "      <td>0</td>\n",
       "      <td>0</td>\n",
       "      <td>5</td>\n",
       "      <td>...</td>\n",
       "      <td>4</td>\n",
       "      <td>2</td>\n",
       "      <td>0</td>\n",
       "      <td>27.0</td>\n",
       "      <td>1459</td>\n",
       "      <td>0</td>\n",
       "      <td>1920</td>\n",
       "      <td>2047</td>\n",
       "      <td>50</td>\n",
       "      <td>63</td>\n",
       "    </tr>\n",
       "    <tr>\n",
       "      <th>4</th>\n",
       "      <td>1430282290</td>\n",
       "      <td>7</td>\n",
       "      <td>13</td>\n",
       "      <td>4</td>\n",
       "      <td>1431</td>\n",
       "      <td>1090</td>\n",
       "      <td>8</td>\n",
       "      <td>1</td>\n",
       "      <td>0</td>\n",
       "      <td>8</td>\n",
       "      <td>...</td>\n",
       "      <td>3</td>\n",
       "      <td>3</td>\n",
       "      <td>0</td>\n",
       "      <td>-16.0</td>\n",
       "      <td>2449</td>\n",
       "      <td>0</td>\n",
       "      <td>4</td>\n",
       "      <td>1974</td>\n",
       "      <td>3</td>\n",
       "      <td>63</td>\n",
       "    </tr>\n",
       "  </tbody>\n",
       "</table>\n",
       "<p>5 rows × 108 columns</p>\n",
       "</div>"
      ],
      "text/plain": [
       "          start_time  lobby_type  r1_hero  r1_level  r1_xp  r1_gold  r1_lh  \\\n",
       "match_id                                                                     \n",
       "0         1430198770           7       11         5   2098     1489     20   \n",
       "1         1430220345           0       42         4   1188     1033      9   \n",
       "2         1430227081           7       33         4   1319     1270     22   \n",
       "3         1430263531           1       29         4   1779     1056     14   \n",
       "4         1430282290           7       13         4   1431     1090      8   \n",
       "\n",
       "          r1_kills  r1_deaths  r1_items  ...  dire_boots_count  \\\n",
       "match_id                                 ...                     \n",
       "0                0          0         7  ...                 4   \n",
       "1                0          1        12  ...                 4   \n",
       "2                0          0        12  ...                 4   \n",
       "3                0          0         5  ...                 4   \n",
       "4                1          0         8  ...                 3   \n",
       "\n",
       "          dire_ward_observer_count  dire_ward_sentry_count  \\\n",
       "match_id                                                     \n",
       "0                                2                       2   \n",
       "1                                3                       1   \n",
       "2                                3                       1   \n",
       "3                                2                       0   \n",
       "4                                3                       0   \n",
       "\n",
       "          dire_first_ward_time  duration  radiant_win  tower_status_radiant  \\\n",
       "match_id                                                                      \n",
       "0                        -52.0      2874            1                  1796   \n",
       "1                         -5.0      2463            1                  1974   \n",
       "2                         13.0      2130            0                     0   \n",
       "3                         27.0      1459            0                  1920   \n",
       "4                        -16.0      2449            0                     4   \n",
       "\n",
       "          tower_status_dire  barracks_status_radiant  barracks_status_dire  \n",
       "match_id                                                                    \n",
       "0                         0                       51                     0  \n",
       "1                         0                       63                     1  \n",
       "2                      1830                        0                    63  \n",
       "3                      2047                       50                    63  \n",
       "4                      1974                        3                    63  \n",
       "\n",
       "[5 rows x 108 columns]"
      ]
     },
     "execution_count": 28,
     "metadata": {},
     "output_type": "execute_result"
    }
   ],
   "source": [
    "dota_train.head()"
   ]
  },
  {
   "cell_type": "markdown",
   "id": "treated-suspension",
   "metadata": {},
   "source": [
    "### Removing columns, which can result in leakage"
   ]
  },
  {
   "cell_type": "code",
   "execution_count": 7,
   "id": "addressed-coalition",
   "metadata": {},
   "outputs": [],
   "source": [
    "X = pd.DataFrame(dota_train.drop(['radiant_win','duration','tower_status_radiant',\\\n",
    "                 'tower_status_dire','barracks_status_radiant','barracks_status_dire'],\\\n",
    "                    axis=1))"
   ]
  },
  {
   "cell_type": "markdown",
   "id": "sudden-transparency",
   "metadata": {},
   "source": [
    "### Finding cols with missing values"
   ]
  },
  {
   "cell_type": "code",
   "execution_count": 52,
   "id": "completed-split",
   "metadata": {},
   "outputs": [],
   "source": [
    "for i in dota_train.columns:\n",
    "    print\n",
    "    #print(f'{i}: {dota_train[i].isnull().sum()/dota_train.shape[0] :.2f}% data is lost')\n",
    "    #if dota_train[i].isnull().sum()>0:\n",
    "    #    print(f\"\\'{i}\\'\",end=',')"
   ]
  },
  {
   "cell_type": "code",
   "execution_count": 8,
   "id": "cooperative-hunter",
   "metadata": {},
   "outputs": [],
   "source": [
    "cols_with_missing = ['first_blood_time','first_blood_team','first_blood_player1',\\\n",
    "                     'first_blood_player2','radiant_bottle_time','radiant_courier_time',\\\n",
    "                     'radiant_flying_courier_time','radiant_first_ward_time',\\\n",
    "                     'dire_bottle_time','dire_courier_time','dire_flying_courier_time',\\\n",
    "                     'dire_first_ward_time']"
   ]
  },
  {
   "cell_type": "markdown",
   "id": "attached-europe",
   "metadata": {},
   "source": [
    "Если событие \"первая кровь\" не успело произойти за первые 5 минут, то признаки принимают пропущенное значение.\n",
    "Поэтому признаки 'first_blood_time','first_blood_team','first_blood_player1' имеют 0.20% \n",
    "значений. Признак 'first_blood_player2' имеет 0.45% пропущенных значений скорее всего из-за того, что \"первую кровь\" пустил только один игрок, без помощи других."
   ]
  },
  {
   "cell_type": "markdown",
   "id": "olympic-telephone",
   "metadata": {},
   "source": [
    "### Replace missing values"
   ]
  },
  {
   "cell_type": "markdown",
   "id": "median-vitamin",
   "metadata": {},
   "source": [
    "According to the task we will fill the missing values with zeros. Later we can do some hyperparameter optimization"
   ]
  },
  {
   "cell_type": "code",
   "execution_count": 9,
   "id": "adjusted-short",
   "metadata": {},
   "outputs": [],
   "source": [
    "X.fillna(0,inplace = True)"
   ]
  },
  {
   "cell_type": "markdown",
   "id": "stopped-geology",
   "metadata": {},
   "source": [
    "### Target column"
   ]
  },
  {
   "cell_type": "markdown",
   "id": "demographic-memorial",
   "metadata": {},
   "source": [
    "We predict who will win, so we need to label 'radiant_win'"
   ]
  },
  {
   "cell_type": "markdown",
   "id": "silver-induction",
   "metadata": {},
   "source": [
    "### Prediction with Gradient Boosting"
   ]
  },
  {
   "cell_type": "code",
   "execution_count": 20,
   "id": "faced-disease",
   "metadata": {},
   "outputs": [],
   "source": [
    "y = dota_train['radiant_win']\n",
    "kfold = KFold(n_splits=5, shuffle = True)"
   ]
  },
  {
   "cell_type": "code",
   "execution_count": 59,
   "id": "humanitarian-intersection",
   "metadata": {},
   "outputs": [
    {
     "name": "stdout",
     "output_type": "stream",
     "text": [
      "Time elapsed: 0:01:09.984544\n",
      "0.665306650864717\n",
      "Time elapsed: 0:02:26.949287\n",
      "0.6814140908787021\n",
      "Time elapsed: 0:03:41.682899\n",
      "0.6896463600745194\n"
     ]
    }
   ],
   "source": [
    "for i in [10,20,30]:\n",
    "\n",
    "    clf = GB(n_estimators=i)\n",
    "    start_time = datetime.datetime.now()\n",
    "    mean_score = cross_val_score(clf, X, y, scoring=\"roc_auc\", cv = kfold).mean()\n",
    "    #results = cross_val_score(clf, X, y, cv=kfold)\n",
    "    #print(\"Accuracy: %.2f%% (%.2f%%)\" % (results.mean()*100, results.std()*100))\n",
    "    print ('Time elapsed:', datetime.datetime.now() - start_time)\n",
    "    print(mean_score)"
   ]
  },
  {
   "cell_type": "markdown",
   "id": "willing-macedonia",
   "metadata": {},
   "source": [
    "Now we need to use AUC ROC, and probably decrease processing time.\n",
    "For a normal cross-validation:<br>\n",
    "10 algos Time elapsed: 0:01:09.984544 Acc:0.665306650864717<br>\n",
    "20 algos Time elapsed: 0:02:26.949287 Acc:0.6814140908787021<br>\n",
    "30 algos Time elapsed: 0:03:41.682899 Acc:0.6896463600745194"
   ]
  },
  {
   "cell_type": "markdown",
   "id": "radical-store",
   "metadata": {},
   "source": [
    "# Logistic Regression prediction"
   ]
  },
  {
   "cell_type": "code",
   "execution_count": 13,
   "id": "rural-fancy",
   "metadata": {},
   "outputs": [],
   "source": [
    "from sklearn.preprocessing import StandardScaler\n",
    "from sklearn.linear_model import LogisticRegression"
   ]
  },
  {
   "cell_type": "code",
   "execution_count": 14,
   "id": "considerable-sunglasses",
   "metadata": {},
   "outputs": [],
   "source": [
    "scaler = StandardScaler()\n",
    "X_scaled = pd.DataFrame(scaler.fit_transform(X))"
   ]
  },
  {
   "cell_type": "markdown",
   "id": "durable-watershed",
   "metadata": {},
   "source": [
    "### Finding the accuracy by ROC"
   ]
  },
  {
   "cell_type": "code",
   "execution_count": 17,
   "id": "sufficient-basis",
   "metadata": {},
   "outputs": [],
   "source": [
    "from sklearn.linear_model import RidgeClassifier"
   ]
  },
  {
   "cell_type": "code",
   "execution_count": 25,
   "id": "civil-flood",
   "metadata": {},
   "outputs": [
    {
     "name": "stdout",
     "output_type": "stream",
     "text": [
      "1e-05\n",
      "Time elapsed: 0:00:01.977317\n",
      "0.7164579771021937\n",
      "0.0001\n",
      "Time elapsed: 0:00:02.102919\n",
      "0.7163518677161613\n",
      "5e-05\n",
      "Time elapsed: 0:00:01.997777\n",
      "0.7161498063256865\n",
      "6e-05\n",
      "Time elapsed: 0:00:02.353167\n",
      "0.7163755453923766\n"
     ]
    }
   ],
   "source": [
    "for i in [1e-5, 1e-4, 5e-5,6e-5]:\n",
    "    start_time = datetime.datetime.now()\n",
    "    model = RidgeClassifier(alpha=i)\n",
    "    mean_score = cross_val_score(model, X_scaled, y, scoring=\"roc_auc\", cv = kfold).mean()\n",
    "    print(i)\n",
    "    print ('Time elapsed:', datetime.datetime.now() - start_time)\n",
    "    print(mean_score)"
   ]
  },
  {
   "cell_type": "code",
   "execution_count": 28,
   "id": "unable-momentum",
   "metadata": {},
   "outputs": [
    {
     "data": {
      "text/plain": [
       "3.8877341460596124"
      ]
     },
     "execution_count": 28,
     "metadata": {},
     "output_type": "execute_result"
    }
   ],
   "source": [
    "100*(0.7164579771021937 - 0.6896463600745194)/0.6896463600745194"
   ]
  },
  {
   "cell_type": "code",
   "execution_count": 30,
   "id": "alive-hanging",
   "metadata": {},
   "outputs": [
    {
     "data": {
      "text/plain": [
       "(97230, 102)"
      ]
     },
     "execution_count": 30,
     "metadata": {},
     "output_type": "execute_result"
    }
   ],
   "source": [
    "X_scaled.shape"
   ]
  },
  {
   "cell_type": "markdown",
   "id": "automatic-auckland",
   "metadata": {},
   "source": [
    "### Dropping nominal features"
   ]
  },
  {
   "cell_type": "code",
   "execution_count": 41,
   "id": "molecular-fountain",
   "metadata": {},
   "outputs": [],
   "source": [
    "drop_columns = ['lobby_type','r1_hero', 'r2_hero', 'r3_hero','r4_hero', 'r5_hero', 'd1_hero', 'd2_hero',\\\n",
    "                'd3_hero','d4_hero',\\\n",
    "                    'd5_hero']"
   ]
  },
  {
   "cell_type": "code",
   "execution_count": 42,
   "id": "early-arizona",
   "metadata": {},
   "outputs": [],
   "source": [
    "X_drop = pd.DataFrame(X.drop(drop_columns,axis=1))"
   ]
  },
  {
   "cell_type": "code",
   "execution_count": 43,
   "id": "aboriginal-puzzle",
   "metadata": {},
   "outputs": [],
   "source": [
    "scaler = StandardScaler()\n",
    "X_scaled_drop = pd.DataFrame(scaler.fit_transform(X_drop))"
   ]
  },
  {
   "cell_type": "code",
   "execution_count": 44,
   "id": "intimate-singles",
   "metadata": {},
   "outputs": [
    {
     "name": "stdout",
     "output_type": "stream",
     "text": [
      "1e-05\n",
      "Time elapsed: 0:00:02.440072\n",
      "0.716586382786688\n",
      "0.0001\n",
      "Time elapsed: 0:00:01.838245\n",
      "0.7164035458744885\n",
      "5e-05\n",
      "Time elapsed: 0:00:02.605598\n",
      "0.7164924852707244\n",
      "6e-05\n",
      "Time elapsed: 0:00:02.210787\n",
      "0.7165119301661695\n"
     ]
    }
   ],
   "source": [
    "for i in [1e-5, 1e-4, 5e-5,6e-5]:\n",
    "    start_time = datetime.datetime.now()\n",
    "    model = RidgeClassifier(alpha=i)\n",
    "    mean_score = cross_val_score(model, X_scaled_drop, y, scoring=\"roc_auc\", cv = kfold).mean()\n",
    "    print(i)\n",
    "    print ('Time elapsed:', datetime.datetime.now() - start_time)\n",
    "    print(mean_score)"
   ]
  },
  {
   "cell_type": "markdown",
   "id": "integrated-shanghai",
   "metadata": {},
   "source": [
    "### How many different heroes do we have?"
   ]
  },
  {
   "cell_type": "code",
   "execution_count": 51,
   "id": "australian-daughter",
   "metadata": {},
   "outputs": [
    {
     "data": {
      "text/plain": [
       "array([  1,   2,   3,   4,   5,   6,   7,   8,   9,  10,  11,  12,  13,\n",
       "        14,  15,  16,  17,  18,  19,  20,  21,  22,  23,  25,  26,  27,\n",
       "        28,  29,  30,  31,  32,  33,  34,  35,  36,  37,  38,  39,  40,\n",
       "        41,  42,  43,  44,  45,  46,  47,  48,  49,  50,  51,  52,  53,\n",
       "        54,  55,  56,  57,  58,  59,  60,  61,  62,  63,  64,  65,  66,\n",
       "        67,  68,  69,  70,  71,  72,  73,  74,  75,  76,  77,  78,  79,\n",
       "        80,  81,  82,  83,  84,  85,  86,  87,  88,  89,  90,  91,  92,\n",
       "        93,  94,  95,  96,  97,  98,  99, 100, 101, 102, 103, 104, 105,\n",
       "       106, 109, 110, 112])"
      ]
     },
     "execution_count": 51,
     "metadata": {},
     "output_type": "execute_result"
    }
   ],
   "source": [
    "heroes = ['r1_hero', 'r2_hero', 'r3_hero','r4_hero', 'r5_hero', 'd1_hero', 'd2_hero',\\\n",
    "                'd3_hero','d4_hero',\\\n",
    "                    'd5_hero']\n",
    "#for i in heroes:\n",
    "np.unique(X[heroes].values)"
   ]
  },
  {
   "cell_type": "markdown",
   "id": "unnecessary-shade",
   "metadata": {},
   "source": [
    "112 heroes"
   ]
  },
  {
   "cell_type": "markdown",
   "id": "silent-medium",
   "metadata": {},
   "source": [
    "### Create bag of words"
   ]
  },
  {
   "cell_type": "code",
   "execution_count": 56,
   "id": "treated-insertion",
   "metadata": {},
   "outputs": [],
   "source": [
    "# 112 — количество различных героев в выборке\n",
    "X_pick = np.zeros((X.shape[0], 112))\n",
    "\n",
    "for i, match_id in enumerate(X.index):\n",
    "    for p in range(5):\n",
    "        X_pick[i, X.loc[match_id, 'r%d_hero' % (p+1)]-1] = 1\n",
    "        X_pick[i, X.loc[match_id, 'd%d_hero' % (p+1)]-1] = -1"
   ]
  },
  {
   "cell_type": "code",
   "execution_count": 93,
   "id": "polyphonic-phrase",
   "metadata": {},
   "outputs": [],
   "source": [
    "X_pick=pd.DataFrame(X_pick)\n",
    "#X_pick.head()\n",
    "#X_pick[109].value_counts()"
   ]
  },
  {
   "cell_type": "code",
   "execution_count": 77,
   "id": "talented-suicide",
   "metadata": {},
   "outputs": [],
   "source": [
    "#X_pick.rename(columns=lambda x: x+ 1, inplace=True)"
   ]
  },
  {
   "cell_type": "code",
   "execution_count": 94,
   "id": "mighty-velvet",
   "metadata": {},
   "outputs": [],
   "source": [
    "X_for_bag = X_scaled_drop.copy()\n",
    "X_for_bag.reset_index(drop=True, inplace=True)\n",
    "X_pick.reset_index(drop=True, inplace=True)"
   ]
  },
  {
   "cell_type": "code",
   "execution_count": 95,
   "id": "unique-glass",
   "metadata": {},
   "outputs": [],
   "source": [
    "X_for_bag = pd.concat([X_for_bag,X_pick],axis=1)"
   ]
  },
  {
   "cell_type": "code",
   "execution_count": 96,
   "id": "likely-formula",
   "metadata": {},
   "outputs": [
    {
     "data": {
      "text/html": [
       "<div>\n",
       "<style scoped>\n",
       "    .dataframe tbody tr th:only-of-type {\n",
       "        vertical-align: middle;\n",
       "    }\n",
       "\n",
       "    .dataframe tbody tr th {\n",
       "        vertical-align: top;\n",
       "    }\n",
       "\n",
       "    .dataframe thead th {\n",
       "        text-align: right;\n",
       "    }\n",
       "</style>\n",
       "<table border=\"1\" class=\"dataframe\">\n",
       "  <thead>\n",
       "    <tr style=\"text-align: right;\">\n",
       "      <th></th>\n",
       "      <th>0</th>\n",
       "      <th>1</th>\n",
       "      <th>2</th>\n",
       "      <th>3</th>\n",
       "      <th>4</th>\n",
       "      <th>5</th>\n",
       "      <th>6</th>\n",
       "      <th>7</th>\n",
       "      <th>8</th>\n",
       "      <th>9</th>\n",
       "      <th>...</th>\n",
       "      <th>103</th>\n",
       "      <th>104</th>\n",
       "      <th>105</th>\n",
       "      <th>106</th>\n",
       "      <th>107</th>\n",
       "      <th>108</th>\n",
       "      <th>109</th>\n",
       "      <th>110</th>\n",
       "      <th>111</th>\n",
       "      <th>112</th>\n",
       "    </tr>\n",
       "  </thead>\n",
       "  <tbody>\n",
       "    <tr>\n",
       "      <th>0</th>\n",
       "      <td>-2.544364</td>\n",
       "      <td>1.400808</td>\n",
       "      <td>1.525972</td>\n",
       "      <td>0.734957</td>\n",
       "      <td>0.969743</td>\n",
       "      <td>-0.537757</td>\n",
       "      <td>-0.578083</td>\n",
       "      <td>-0.509023</td>\n",
       "      <td>-0.332256</td>\n",
       "      <td>-0.625222</td>\n",
       "      <td>...</td>\n",
       "      <td>0.0</td>\n",
       "      <td>0.0</td>\n",
       "      <td>1.0</td>\n",
       "      <td>0.0</td>\n",
       "      <td>0.0</td>\n",
       "      <td>0.0</td>\n",
       "      <td>0.0</td>\n",
       "      <td>0.0</td>\n",
       "      <td>0.0</td>\n",
       "      <td>0.0</td>\n",
       "    </tr>\n",
       "    <tr>\n",
       "      <th>1</th>\n",
       "      <td>-2.540452</td>\n",
       "      <td>0.501314</td>\n",
       "      <td>-0.080139</td>\n",
       "      <td>-0.247570</td>\n",
       "      <td>-0.246859</td>\n",
       "      <td>-0.537757</td>\n",
       "      <td>1.017574</td>\n",
       "      <td>1.492930</td>\n",
       "      <td>0.578881</td>\n",
       "      <td>0.732454</td>\n",
       "      <td>...</td>\n",
       "      <td>0.0</td>\n",
       "      <td>0.0</td>\n",
       "      <td>0.0</td>\n",
       "      <td>0.0</td>\n",
       "      <td>0.0</td>\n",
       "      <td>0.0</td>\n",
       "      <td>0.0</td>\n",
       "      <td>0.0</td>\n",
       "      <td>0.0</td>\n",
       "      <td>0.0</td>\n",
       "    </tr>\n",
       "    <tr>\n",
       "      <th>2</th>\n",
       "      <td>-2.539231</td>\n",
       "      <td>0.501314</td>\n",
       "      <td>0.151070</td>\n",
       "      <td>0.263085</td>\n",
       "      <td>1.190944</td>\n",
       "      <td>-0.537757</td>\n",
       "      <td>-0.578083</td>\n",
       "      <td>1.492930</td>\n",
       "      <td>-0.332256</td>\n",
       "      <td>0.224676</td>\n",
       "      <td>...</td>\n",
       "      <td>0.0</td>\n",
       "      <td>0.0</td>\n",
       "      <td>0.0</td>\n",
       "      <td>0.0</td>\n",
       "      <td>0.0</td>\n",
       "      <td>0.0</td>\n",
       "      <td>0.0</td>\n",
       "      <td>0.0</td>\n",
       "      <td>0.0</td>\n",
       "      <td>0.0</td>\n",
       "    </tr>\n",
       "    <tr>\n",
       "      <th>3</th>\n",
       "      <td>-2.532622</td>\n",
       "      <td>0.501314</td>\n",
       "      <td>0.962950</td>\n",
       "      <td>-0.198013</td>\n",
       "      <td>0.306142</td>\n",
       "      <td>-0.537757</td>\n",
       "      <td>-0.578083</td>\n",
       "      <td>-1.309804</td>\n",
       "      <td>-1.243393</td>\n",
       "      <td>-1.170813</td>\n",
       "      <td>...</td>\n",
       "      <td>0.0</td>\n",
       "      <td>0.0</td>\n",
       "      <td>0.0</td>\n",
       "      <td>0.0</td>\n",
       "      <td>0.0</td>\n",
       "      <td>0.0</td>\n",
       "      <td>0.0</td>\n",
       "      <td>0.0</td>\n",
       "      <td>0.0</td>\n",
       "      <td>0.0</td>\n",
       "    </tr>\n",
       "    <tr>\n",
       "      <th>4</th>\n",
       "      <td>-2.529221</td>\n",
       "      <td>0.501314</td>\n",
       "      <td>0.348745</td>\n",
       "      <td>-0.124754</td>\n",
       "      <td>-0.357459</td>\n",
       "      <td>0.968527</td>\n",
       "      <td>-0.578083</td>\n",
       "      <td>-0.108632</td>\n",
       "      <td>-1.243393</td>\n",
       "      <td>-1.008757</td>\n",
       "      <td>...</td>\n",
       "      <td>0.0</td>\n",
       "      <td>0.0</td>\n",
       "      <td>0.0</td>\n",
       "      <td>0.0</td>\n",
       "      <td>0.0</td>\n",
       "      <td>0.0</td>\n",
       "      <td>0.0</td>\n",
       "      <td>0.0</td>\n",
       "      <td>0.0</td>\n",
       "      <td>0.0</td>\n",
       "    </tr>\n",
       "  </tbody>\n",
       "</table>\n",
       "<p>5 rows × 203 columns</p>\n",
       "</div>"
      ],
      "text/plain": [
       "        0         1         2         3         4         5         6    \\\n",
       "0 -2.544364  1.400808  1.525972  0.734957  0.969743 -0.537757 -0.578083   \n",
       "1 -2.540452  0.501314 -0.080139 -0.247570 -0.246859 -0.537757  1.017574   \n",
       "2 -2.539231  0.501314  0.151070  0.263085  1.190944 -0.537757 -0.578083   \n",
       "3 -2.532622  0.501314  0.962950 -0.198013  0.306142 -0.537757 -0.578083   \n",
       "4 -2.529221  0.501314  0.348745 -0.124754 -0.357459  0.968527 -0.578083   \n",
       "\n",
       "        7         8         9    ...  103  104  105  106  107  108  109  110  \\\n",
       "0 -0.509023 -0.332256 -0.625222  ...  0.0  0.0  1.0  0.0  0.0  0.0  0.0  0.0   \n",
       "1  1.492930  0.578881  0.732454  ...  0.0  0.0  0.0  0.0  0.0  0.0  0.0  0.0   \n",
       "2  1.492930 -0.332256  0.224676  ...  0.0  0.0  0.0  0.0  0.0  0.0  0.0  0.0   \n",
       "3 -1.309804 -1.243393 -1.170813  ...  0.0  0.0  0.0  0.0  0.0  0.0  0.0  0.0   \n",
       "4 -0.108632 -1.243393 -1.008757  ...  0.0  0.0  0.0  0.0  0.0  0.0  0.0  0.0   \n",
       "\n",
       "   111  112  \n",
       "0  0.0  0.0  \n",
       "1  0.0  0.0  \n",
       "2  0.0  0.0  \n",
       "3  0.0  0.0  \n",
       "4  0.0  0.0  \n",
       "\n",
       "[5 rows x 203 columns]"
      ]
     },
     "execution_count": 96,
     "metadata": {},
     "output_type": "execute_result"
    }
   ],
   "source": [
    "X_for_bag.head()"
   ]
  },
  {
   "cell_type": "markdown",
   "id": "honest-negotiation",
   "metadata": {},
   "source": [
    "Below I'm trying to define if the rows in X_for_bag mean the same as X. <br>\n",
    "I also probably need to name the columns of X_for_bags by the names we have in X."
   ]
  },
  {
   "cell_type": "code",
   "execution_count": 104,
   "id": "level-recorder",
   "metadata": {},
   "outputs": [
    {
     "data": {
      "text/html": [
       "<div>\n",
       "<style scoped>\n",
       "    .dataframe tbody tr th:only-of-type {\n",
       "        vertical-align: middle;\n",
       "    }\n",
       "\n",
       "    .dataframe tbody tr th {\n",
       "        vertical-align: top;\n",
       "    }\n",
       "\n",
       "    .dataframe thead th {\n",
       "        text-align: right;\n",
       "    }\n",
       "</style>\n",
       "<table border=\"1\" class=\"dataframe\">\n",
       "  <thead>\n",
       "    <tr style=\"text-align: right;\">\n",
       "      <th></th>\n",
       "      <th>start_time</th>\n",
       "      <th>lobby_type</th>\n",
       "      <th>r1_hero</th>\n",
       "      <th>r1_level</th>\n",
       "      <th>r1_xp</th>\n",
       "      <th>r1_gold</th>\n",
       "      <th>r1_lh</th>\n",
       "      <th>r1_kills</th>\n",
       "      <th>r1_deaths</th>\n",
       "      <th>r1_items</th>\n",
       "      <th>...</th>\n",
       "      <th>radiant_ward_sentry_count</th>\n",
       "      <th>radiant_first_ward_time</th>\n",
       "      <th>dire_bottle_time</th>\n",
       "      <th>dire_courier_time</th>\n",
       "      <th>dire_flying_courier_time</th>\n",
       "      <th>dire_tpscroll_count</th>\n",
       "      <th>dire_boots_count</th>\n",
       "      <th>dire_ward_observer_count</th>\n",
       "      <th>dire_ward_sentry_count</th>\n",
       "      <th>dire_first_ward_time</th>\n",
       "    </tr>\n",
       "    <tr>\n",
       "      <th>match_id</th>\n",
       "      <th></th>\n",
       "      <th></th>\n",
       "      <th></th>\n",
       "      <th></th>\n",
       "      <th></th>\n",
       "      <th></th>\n",
       "      <th></th>\n",
       "      <th></th>\n",
       "      <th></th>\n",
       "      <th></th>\n",
       "      <th></th>\n",
       "      <th></th>\n",
       "      <th></th>\n",
       "      <th></th>\n",
       "      <th></th>\n",
       "      <th></th>\n",
       "      <th></th>\n",
       "      <th></th>\n",
       "      <th></th>\n",
       "      <th></th>\n",
       "      <th></th>\n",
       "    </tr>\n",
       "  </thead>\n",
       "  <tbody>\n",
       "    <tr>\n",
       "      <th>0</th>\n",
       "      <td>1430198770</td>\n",
       "      <td>7</td>\n",
       "      <td>11</td>\n",
       "      <td>5</td>\n",
       "      <td>2098</td>\n",
       "      <td>1489</td>\n",
       "      <td>20</td>\n",
       "      <td>0</td>\n",
       "      <td>0</td>\n",
       "      <td>7</td>\n",
       "      <td>...</td>\n",
       "      <td>0</td>\n",
       "      <td>35.0</td>\n",
       "      <td>103.0</td>\n",
       "      <td>-84.0</td>\n",
       "      <td>221.0</td>\n",
       "      <td>3</td>\n",
       "      <td>4</td>\n",
       "      <td>2</td>\n",
       "      <td>2</td>\n",
       "      <td>-52.0</td>\n",
       "    </tr>\n",
       "    <tr>\n",
       "      <th>1</th>\n",
       "      <td>1430220345</td>\n",
       "      <td>0</td>\n",
       "      <td>42</td>\n",
       "      <td>4</td>\n",
       "      <td>1188</td>\n",
       "      <td>1033</td>\n",
       "      <td>9</td>\n",
       "      <td>0</td>\n",
       "      <td>1</td>\n",
       "      <td>12</td>\n",
       "      <td>...</td>\n",
       "      <td>0</td>\n",
       "      <td>-20.0</td>\n",
       "      <td>149.0</td>\n",
       "      <td>-84.0</td>\n",
       "      <td>195.0</td>\n",
       "      <td>5</td>\n",
       "      <td>4</td>\n",
       "      <td>3</td>\n",
       "      <td>1</td>\n",
       "      <td>-5.0</td>\n",
       "    </tr>\n",
       "    <tr>\n",
       "      <th>2</th>\n",
       "      <td>1430227081</td>\n",
       "      <td>7</td>\n",
       "      <td>33</td>\n",
       "      <td>4</td>\n",
       "      <td>1319</td>\n",
       "      <td>1270</td>\n",
       "      <td>22</td>\n",
       "      <td>0</td>\n",
       "      <td>0</td>\n",
       "      <td>12</td>\n",
       "      <td>...</td>\n",
       "      <td>1</td>\n",
       "      <td>-39.0</td>\n",
       "      <td>45.0</td>\n",
       "      <td>-77.0</td>\n",
       "      <td>221.0</td>\n",
       "      <td>3</td>\n",
       "      <td>4</td>\n",
       "      <td>3</td>\n",
       "      <td>1</td>\n",
       "      <td>13.0</td>\n",
       "    </tr>\n",
       "    <tr>\n",
       "      <th>3</th>\n",
       "      <td>1430263531</td>\n",
       "      <td>1</td>\n",
       "      <td>29</td>\n",
       "      <td>4</td>\n",
       "      <td>1779</td>\n",
       "      <td>1056</td>\n",
       "      <td>14</td>\n",
       "      <td>0</td>\n",
       "      <td>0</td>\n",
       "      <td>5</td>\n",
       "      <td>...</td>\n",
       "      <td>0</td>\n",
       "      <td>-30.0</td>\n",
       "      <td>124.0</td>\n",
       "      <td>-80.0</td>\n",
       "      <td>184.0</td>\n",
       "      <td>0</td>\n",
       "      <td>4</td>\n",
       "      <td>2</td>\n",
       "      <td>0</td>\n",
       "      <td>27.0</td>\n",
       "    </tr>\n",
       "    <tr>\n",
       "      <th>4</th>\n",
       "      <td>1430282290</td>\n",
       "      <td>7</td>\n",
       "      <td>13</td>\n",
       "      <td>4</td>\n",
       "      <td>1431</td>\n",
       "      <td>1090</td>\n",
       "      <td>8</td>\n",
       "      <td>1</td>\n",
       "      <td>0</td>\n",
       "      <td>8</td>\n",
       "      <td>...</td>\n",
       "      <td>0</td>\n",
       "      <td>46.0</td>\n",
       "      <td>182.0</td>\n",
       "      <td>-80.0</td>\n",
       "      <td>225.0</td>\n",
       "      <td>6</td>\n",
       "      <td>3</td>\n",
       "      <td>3</td>\n",
       "      <td>0</td>\n",
       "      <td>-16.0</td>\n",
       "    </tr>\n",
       "  </tbody>\n",
       "</table>\n",
       "<p>5 rows × 102 columns</p>\n",
       "</div>"
      ],
      "text/plain": [
       "          start_time  lobby_type  r1_hero  r1_level  r1_xp  r1_gold  r1_lh  \\\n",
       "match_id                                                                     \n",
       "0         1430198770           7       11         5   2098     1489     20   \n",
       "1         1430220345           0       42         4   1188     1033      9   \n",
       "2         1430227081           7       33         4   1319     1270     22   \n",
       "3         1430263531           1       29         4   1779     1056     14   \n",
       "4         1430282290           7       13         4   1431     1090      8   \n",
       "\n",
       "          r1_kills  r1_deaths  r1_items  ...  radiant_ward_sentry_count  \\\n",
       "match_id                                 ...                              \n",
       "0                0          0         7  ...                          0   \n",
       "1                0          1        12  ...                          0   \n",
       "2                0          0        12  ...                          1   \n",
       "3                0          0         5  ...                          0   \n",
       "4                1          0         8  ...                          0   \n",
       "\n",
       "          radiant_first_ward_time  dire_bottle_time  dire_courier_time  \\\n",
       "match_id                                                                 \n",
       "0                            35.0             103.0              -84.0   \n",
       "1                           -20.0             149.0              -84.0   \n",
       "2                           -39.0              45.0              -77.0   \n",
       "3                           -30.0             124.0              -80.0   \n",
       "4                            46.0             182.0              -80.0   \n",
       "\n",
       "          dire_flying_courier_time  dire_tpscroll_count  dire_boots_count  \\\n",
       "match_id                                                                    \n",
       "0                            221.0                    3                 4   \n",
       "1                            195.0                    5                 4   \n",
       "2                            221.0                    3                 4   \n",
       "3                            184.0                    0                 4   \n",
       "4                            225.0                    6                 3   \n",
       "\n",
       "          dire_ward_observer_count  dire_ward_sentry_count  \\\n",
       "match_id                                                     \n",
       "0                                2                       2   \n",
       "1                                3                       1   \n",
       "2                                3                       1   \n",
       "3                                2                       0   \n",
       "4                                3                       0   \n",
       "\n",
       "          dire_first_ward_time  \n",
       "match_id                        \n",
       "0                        -52.0  \n",
       "1                         -5.0  \n",
       "2                         13.0  \n",
       "3                         27.0  \n",
       "4                        -16.0  \n",
       "\n",
       "[5 rows x 102 columns]"
      ]
     },
     "execution_count": 104,
     "metadata": {},
     "output_type": "execute_result"
    }
   ],
   "source": [
    "X.head()"
   ]
  },
  {
   "cell_type": "code",
   "execution_count": 105,
   "id": "matched-space",
   "metadata": {},
   "outputs": [
    {
     "name": "stdout",
     "output_type": "stream",
     "text": [
      "match_id\n",
      "0    11\n",
      "Name: r1_hero, dtype: int64\n",
      "match_id\n",
      "0    67\n",
      "Name: r2_hero, dtype: int64\n",
      "match_id\n",
      "0    29\n",
      "Name: r3_hero, dtype: int64\n",
      "match_id\n",
      "0    20\n",
      "Name: r4_hero, dtype: int64\n",
      "match_id\n",
      "0    105\n",
      "Name: r5_hero, dtype: int64\n",
      "match_id\n",
      "0    4\n",
      "Name: d1_hero, dtype: int64\n",
      "match_id\n",
      "0    42\n",
      "Name: d2_hero, dtype: int64\n",
      "match_id\n",
      "0    21\n",
      "Name: d3_hero, dtype: int64\n",
      "match_id\n",
      "0    37\n",
      "Name: d4_hero, dtype: int64\n",
      "match_id\n",
      "0    84\n",
      "Name: d5_hero, dtype: int64\n"
     ]
    }
   ],
   "source": [
    "for i in heroes:\n",
    "    print(X[i].loc[X.index==0])"
   ]
  },
  {
   "cell_type": "code",
   "execution_count": null,
   "id": "stopped-samoa",
   "metadata": {},
   "outputs": [],
   "source": []
  }
 ],
 "metadata": {
  "kernelspec": {
   "display_name": "Python 3",
   "language": "python",
   "name": "python3"
  },
  "language_info": {
   "codemirror_mode": {
    "name": "ipython",
    "version": 3
   },
   "file_extension": ".py",
   "mimetype": "text/x-python",
   "name": "python",
   "nbconvert_exporter": "python",
   "pygments_lexer": "ipython3",
   "version": "3.8.5"
  }
 },
 "nbformat": 4,
 "nbformat_minor": 5
}
